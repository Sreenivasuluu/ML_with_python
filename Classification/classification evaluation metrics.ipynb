{
 "cells": [
  {
   "cell_type": "markdown",
   "id": "15394a0d",
   "metadata": {},
   "source": [
    "# Classification Evaluation Metrics"
   ]
  },
  {
   "cell_type": "markdown",
   "id": "0d8de689",
   "metadata": {},
   "source": [
    "### Evaluation metrics are used to measure the quality of the model. One of the most important topics in machine learning is how to evaluate your model. When you build your model, it is very crucial to measure how accurately it predicts your expected outcome.\n",
    "\n",
    "### We have different evaluation metrics for a different set of machine learning algorithms. For evaluating classification models, we use classification metrics and for evaluating regression models, we use regression metrics. Here, I’ll talk about only classification metrics."
   ]
  },
  {
   "cell_type": "markdown",
   "id": "fd7f4d94",
   "metadata": {},
   "source": [
    "## Let's make a classification model quickly"
   ]
  },
  {
   "cell_type": "code",
   "execution_count": 1,
   "id": "4901b89f",
   "metadata": {},
   "outputs": [],
   "source": [
    "import numpy as np\n",
    "import pandas as pd\n",
    "import matplotlib.pyplot as plt"
   ]
  },
  {
   "cell_type": "code",
   "execution_count": 2,
   "id": "3c3761da",
   "metadata": {},
   "outputs": [],
   "source": [
    "df = pd.read_csv('Social_Network_Ads.csv')"
   ]
  },
  {
   "cell_type": "code",
   "execution_count": 3,
   "id": "278c507d",
   "metadata": {},
   "outputs": [
    {
     "data": {
      "text/html": [
       "<div>\n",
       "<style scoped>\n",
       "    .dataframe tbody tr th:only-of-type {\n",
       "        vertical-align: middle;\n",
       "    }\n",
       "\n",
       "    .dataframe tbody tr th {\n",
       "        vertical-align: top;\n",
       "    }\n",
       "\n",
       "    .dataframe thead th {\n",
       "        text-align: right;\n",
       "    }\n",
       "</style>\n",
       "<table border=\"1\" class=\"dataframe\">\n",
       "  <thead>\n",
       "    <tr style=\"text-align: right;\">\n",
       "      <th></th>\n",
       "      <th>User ID</th>\n",
       "      <th>Gender</th>\n",
       "      <th>Age</th>\n",
       "      <th>EstimatedSalary</th>\n",
       "      <th>Purchased</th>\n",
       "    </tr>\n",
       "  </thead>\n",
       "  <tbody>\n",
       "    <tr>\n",
       "      <th>0</th>\n",
       "      <td>15624510</td>\n",
       "      <td>Male</td>\n",
       "      <td>19</td>\n",
       "      <td>19000</td>\n",
       "      <td>0</td>\n",
       "    </tr>\n",
       "    <tr>\n",
       "      <th>1</th>\n",
       "      <td>15810944</td>\n",
       "      <td>Male</td>\n",
       "      <td>35</td>\n",
       "      <td>20000</td>\n",
       "      <td>0</td>\n",
       "    </tr>\n",
       "    <tr>\n",
       "      <th>2</th>\n",
       "      <td>15668575</td>\n",
       "      <td>Female</td>\n",
       "      <td>26</td>\n",
       "      <td>43000</td>\n",
       "      <td>0</td>\n",
       "    </tr>\n",
       "    <tr>\n",
       "      <th>3</th>\n",
       "      <td>15603246</td>\n",
       "      <td>Female</td>\n",
       "      <td>27</td>\n",
       "      <td>57000</td>\n",
       "      <td>0</td>\n",
       "    </tr>\n",
       "    <tr>\n",
       "      <th>4</th>\n",
       "      <td>15804002</td>\n",
       "      <td>Male</td>\n",
       "      <td>19</td>\n",
       "      <td>76000</td>\n",
       "      <td>0</td>\n",
       "    </tr>\n",
       "  </tbody>\n",
       "</table>\n",
       "</div>"
      ],
      "text/plain": [
       "    User ID  Gender  Age  EstimatedSalary  Purchased\n",
       "0  15624510    Male   19            19000          0\n",
       "1  15810944    Male   35            20000          0\n",
       "2  15668575  Female   26            43000          0\n",
       "3  15603246  Female   27            57000          0\n",
       "4  15804002    Male   19            76000          0"
      ]
     },
     "execution_count": 3,
     "metadata": {},
     "output_type": "execute_result"
    }
   ],
   "source": [
    "df.head()"
   ]
  },
  {
   "cell_type": "code",
   "execution_count": 4,
   "id": "15abbde0",
   "metadata": {},
   "outputs": [],
   "source": [
    "df['Gender'] = df['Gender'].map({'Male':1 , 'Female':0})"
   ]
  },
  {
   "cell_type": "code",
   "execution_count": 5,
   "id": "354d5e88",
   "metadata": {},
   "outputs": [
    {
     "data": {
      "text/html": [
       "<div>\n",
       "<style scoped>\n",
       "    .dataframe tbody tr th:only-of-type {\n",
       "        vertical-align: middle;\n",
       "    }\n",
       "\n",
       "    .dataframe tbody tr th {\n",
       "        vertical-align: top;\n",
       "    }\n",
       "\n",
       "    .dataframe thead th {\n",
       "        text-align: right;\n",
       "    }\n",
       "</style>\n",
       "<table border=\"1\" class=\"dataframe\">\n",
       "  <thead>\n",
       "    <tr style=\"text-align: right;\">\n",
       "      <th></th>\n",
       "      <th>User ID</th>\n",
       "      <th>Gender</th>\n",
       "      <th>Age</th>\n",
       "      <th>EstimatedSalary</th>\n",
       "      <th>Purchased</th>\n",
       "    </tr>\n",
       "  </thead>\n",
       "  <tbody>\n",
       "    <tr>\n",
       "      <th>0</th>\n",
       "      <td>15624510</td>\n",
       "      <td>1</td>\n",
       "      <td>19</td>\n",
       "      <td>19000</td>\n",
       "      <td>0</td>\n",
       "    </tr>\n",
       "    <tr>\n",
       "      <th>1</th>\n",
       "      <td>15810944</td>\n",
       "      <td>1</td>\n",
       "      <td>35</td>\n",
       "      <td>20000</td>\n",
       "      <td>0</td>\n",
       "    </tr>\n",
       "    <tr>\n",
       "      <th>2</th>\n",
       "      <td>15668575</td>\n",
       "      <td>0</td>\n",
       "      <td>26</td>\n",
       "      <td>43000</td>\n",
       "      <td>0</td>\n",
       "    </tr>\n",
       "    <tr>\n",
       "      <th>3</th>\n",
       "      <td>15603246</td>\n",
       "      <td>0</td>\n",
       "      <td>27</td>\n",
       "      <td>57000</td>\n",
       "      <td>0</td>\n",
       "    </tr>\n",
       "    <tr>\n",
       "      <th>4</th>\n",
       "      <td>15804002</td>\n",
       "      <td>1</td>\n",
       "      <td>19</td>\n",
       "      <td>76000</td>\n",
       "      <td>0</td>\n",
       "    </tr>\n",
       "  </tbody>\n",
       "</table>\n",
       "</div>"
      ],
      "text/plain": [
       "    User ID  Gender  Age  EstimatedSalary  Purchased\n",
       "0  15624510       1   19            19000          0\n",
       "1  15810944       1   35            20000          0\n",
       "2  15668575       0   26            43000          0\n",
       "3  15603246       0   27            57000          0\n",
       "4  15804002       1   19            76000          0"
      ]
     },
     "execution_count": 5,
     "metadata": {},
     "output_type": "execute_result"
    }
   ],
   "source": [
    "df.head()"
   ]
  },
  {
   "cell_type": "code",
   "execution_count": 6,
   "id": "058608ed",
   "metadata": {},
   "outputs": [],
   "source": [
    "X = df.iloc[:,1:-1]\n",
    "Y = df.iloc[:,-1]"
   ]
  },
  {
   "cell_type": "code",
   "execution_count": 7,
   "id": "b95d6239",
   "metadata": {},
   "outputs": [],
   "source": [
    "from sklearn.preprocessing import StandardScaler\n",
    "sc = StandardScaler()\n",
    "col = ['Age','EstimatedSalary']\n",
    "X[col] = sc.fit_transform(X[col])"
   ]
  },
  {
   "cell_type": "code",
   "execution_count": 8,
   "id": "bf146d82",
   "metadata": {},
   "outputs": [],
   "source": [
    "from sklearn.model_selection import train_test_split"
   ]
  },
  {
   "cell_type": "code",
   "execution_count": 9,
   "id": "c8b27542",
   "metadata": {},
   "outputs": [],
   "source": [
    "train_x,test_x,train_y,test_y = train_test_split(X,Y,test_size=0.25,random_state=5)"
   ]
  },
  {
   "cell_type": "code",
   "execution_count": 10,
   "id": "9dab9adc",
   "metadata": {},
   "outputs": [
    {
     "data": {
      "text/plain": [
       "LogisticRegression()"
      ]
     },
     "execution_count": 10,
     "metadata": {},
     "output_type": "execute_result"
    }
   ],
   "source": [
    "from sklearn.linear_model import LogisticRegression\n",
    "logr = LogisticRegression()\n",
    "logr.fit(train_x,train_y)"
   ]
  },
  {
   "cell_type": "code",
   "execution_count": 11,
   "id": "1c734fa8",
   "metadata": {},
   "outputs": [
    {
     "name": "stdout",
     "output_type": "stream",
     "text": [
      "The training score :  0.85\n",
      "The testing score :  0.86\n"
     ]
    }
   ],
   "source": [
    "print('The training score : ',logr.score(train_x,train_y))\n",
    "print('The testing score : ',logr.score(test_x,test_y))"
   ]
  },
  {
   "cell_type": "code",
   "execution_count": 12,
   "id": "cdf54a25",
   "metadata": {},
   "outputs": [],
   "source": [
    "test_y_pred = logr.predict(test_x)\n",
    "train_y_pred = logr.predict(train_x)"
   ]
  },
  {
   "cell_type": "markdown",
   "id": "71d829aa",
   "metadata": {},
   "source": [
    "## classification Evaluation Metrics :\n",
    "   ### - Logarithmic Loss or Log Loss\n",
    "   ### - Accuracy\n",
    "   ### - Precision \n",
    "   ### - Recall \n",
    "   ### - F1_score \n",
    "   ### - Jaccard score"
   ]
  },
  {
   "cell_type": "markdown",
   "id": "940a66be",
   "metadata": {},
   "source": [
    "### Logarithmic Loss or Log Loss:\n",
    "\n",
    "Log Loss can be used when the output of the classifier is a numeric probability instead of a class label. Log loss measures the unpredictability of the extra noise that comes from using a predictor as opposed to the true labels. It is also known as 'Cross-entropy loss'\n",
    "\n",
    "\n",
    "Log loss doesn’t have an upper bound and it exists on the range [0, ∞).<br> Minimizing log loss gives greater accuracy for the classifier.<br>\n",
    "Here, we have a scikit-learn implementation of Log Loss:"
   ]
  },
  {
   "cell_type": "code",
   "execution_count": 13,
   "id": "6fbbba17",
   "metadata": {},
   "outputs": [
    {
     "name": "stdout",
     "output_type": "stream",
     "text": [
      "The log loss is :  4.835468675159006\n"
     ]
    }
   ],
   "source": [
    "from sklearn.metrics import log_loss\n",
    "print('The log loss is : ',log_loss(test_y,test_y_pred))"
   ]
  },
  {
   "cell_type": "markdown",
   "id": "bf999184",
   "metadata": {},
   "source": [
    "### Confusion Matrix:\n",
    "\n",
    "A confusion matrix or error matrix is a table that shows the number of correct and incorrect predictions made by the model compared with the actual classifications in the test set or what type of errors are being made.<br>This matrix describes the performance of a classification model on test data for which true values are known.<br> It is a n*n matrix, where n is the number of classes.<br>This matrix can be generated after making predictions on the test data."
   ]
  },
  {
   "cell_type": "code",
   "execution_count": 14,
   "id": "b568fe13",
   "metadata": {},
   "outputs": [
    {
     "data": {
      "text/plain": [
       "array([[61,  5],\n",
       "       [ 9, 25]], dtype=int64)"
      ]
     },
     "execution_count": 14,
     "metadata": {},
     "output_type": "execute_result"
    }
   ],
   "source": [
    "from sklearn.metrics import confusion_matrix\n",
    "cm = confusion_matrix(test_y,test_y_pred)\n",
    "cm"
   ]
  },
  {
   "cell_type": "code",
   "execution_count": 15,
   "id": "37a93130",
   "metadata": {},
   "outputs": [],
   "source": [
    "import itertools\n",
    "def plot_confusion_matrix(cm, classes,\n",
    "                          normalize=False,                                    # A method for plotting the confusion matrix\n",
    "                          title='Confusion matrix',\n",
    "                          cmap=plt.cm.Blues):\n",
    "    \"\"\"\n",
    "    This function prints and plots the confusion matrix.\n",
    "    Normalization can be applied by setting `normalize=True`.\n",
    "    \"\"\"\n",
    "    plt.imshow(cm, interpolation='nearest', cmap=cmap)\n",
    "    plt.title(title)\n",
    "    plt.colorbar()\n",
    "    tick_marks = np.arange(len(classes))\n",
    "    plt.xticks(tick_marks, classes, rotation=30)\n",
    "    plt.yticks(tick_marks, classes)\n",
    "\n",
    "    if normalize:\n",
    "        cm = cm.astype('float') / cm.sum(axis=1)[:, np.newaxis]\n",
    "        print(\"Normalized confusion matrix\")\n",
    "    else:\n",
    "        print('Confusion matrix, without normalization')\n",
    "    thresh = cm.max() / 2.\n",
    "    for i, j in itertools.product(range(cm.shape[0]), range(cm.shape[1])):\n",
    "        plt.text(j, i, cm[i, j],\n",
    "            horizontalalignment=\"center\",\n",
    "            color=\"white\" if cm[i, j] > thresh else \"black\")\n",
    "\n",
    "    plt.tight_layout()\n",
    "    plt.ylabel('True label')\n",
    "    plt.xlabel('Predicted label')"
   ]
  },
  {
   "cell_type": "code",
   "execution_count": 16,
   "id": "9a61c27c",
   "metadata": {},
   "outputs": [
    {
     "name": "stdout",
     "output_type": "stream",
     "text": [
      "Confusion matrix, without normalization\n"
     ]
    },
    {
     "data": {
      "image/png": "[encoded data removed]",
      "text/plain": [
       "<Figure size 432x288 with 2 Axes>"
      ]
     },
     "metadata": {
      "needs_background": "light"
     },
     "output_type": "display_data"
    }
   ],
   "source": [
    "plot_confusion_matrix(cm,['not purchase','purchase']) # need to provide the classes"
   ]
  },
  {
   "cell_type": "markdown",
   "id": "01089785",
   "metadata": {},
   "source": [
    "Four possible outcomes could occur while performing classification predictions:<br>\n",
    "\n",
    "\n",
    "**True Positives (TP):** Number of outcomes that are actually positive and are predicted positive.<br>\n",
    "**True Negatives (TN):** Number of outcomes that are actually negative and are predicted negative.<br>\n",
    "**False Positives (FP):** Number of outcomes that are actually negative but predicted positive. These errors are also called Type 1 Errors.<br>\n",
    "**False Negatives (FN):** Number of outcomes that are actually positive but predicted negative. These errors are also called Type 2 Errors.<br>\n",
    "\n",
    "    \n",
    "   ###### Positive and Negatives refers to the prediction itself. True and False refers to the correctness of the prediction."
   ]
  },
  {
   "cell_type": "markdown",
   "id": "a544ac9a",
   "metadata": {},
   "source": [
    "We can get 4 classification metrics from the Confusion Matrix:<BR>\n",
    " ### 1.) Accuracy:<BR>\n",
    "     \n",
    "    It can also be calculated in terms of positives and negatives for binary classification:\n",
    "                           \n",
    "                            Accuracy = (TP+TN) / (TP+FP+TN+FN)\n",
    "\n",
    "    It doesn’t grant us much information regarding the distribution of false positives and false negatives."
   ]
  },
  {
   "cell_type": "code",
   "execution_count": 17,
   "id": "15efa561",
   "metadata": {},
   "outputs": [
    {
     "name": "stdout",
     "output_type": "stream",
     "text": [
      "The accuracy score :  0.86\n"
     ]
    }
   ],
   "source": [
    "from sklearn.metrics import accuracy_score\n",
    "print('The accuracy score : ',accuracy_score(test_y,test_y_pred))"
   ]
  },
  {
   "cell_type": "markdown",
   "id": "2d39d6ea",
   "metadata": {},
   "source": [
    "### 2.) Precision or Positive Predictive Value (PPV):\n",
    "\n",
    "    It is the ratio of True Positives to all the positives predicted by the model. It is useful for the skewed and unbalanced dataset. \n",
    "    \n",
    "                             PPV = TP / (TP+FP)\n",
    "    \n",
    "    The more False positives the model predicts, the lower the precision.\n"
   ]
  },
  {
   "cell_type": "code",
   "execution_count": 18,
   "id": "49c87b17",
   "metadata": {},
   "outputs": [
    {
     "name": "stdout",
     "output_type": "stream",
     "text": [
      "The precision score :  0.8333333333333334\n"
     ]
    }
   ],
   "source": [
    "from sklearn.metrics import precision_score\n",
    "print('The precision score : ',precision_score(test_y,test_y_pred))"
   ]
  },
  {
   "cell_type": "markdown",
   "id": "14199cdb",
   "metadata": {},
   "source": [
    "### 3.) Recall or Sensitivity or True Positive Rate(TPR):\n",
    "     \n",
    "    It is the ratio of true positives to all the positives in your dataset. It measures the model’s ability to detect positive samples. \n",
    "    \n",
    "                          TPR = TP / (TP+FN)\n",
    "    \n",
    "    The more false negatives the model predicts, the lower the recall."
   ]
  },
  {
   "cell_type": "code",
   "execution_count": 19,
   "id": "e2e49e93",
   "metadata": {},
   "outputs": [
    {
     "name": "stdout",
     "output_type": "stream",
     "text": [
      "The recall score :  0.7352941176470589\n"
     ]
    }
   ],
   "source": [
    "from sklearn.metrics import recall_score\n",
    "print('The recall score : ',recall_score(test_y,test_y_pred))"
   ]
  },
  {
   "cell_type": "markdown",
   "id": "987ed9eb",
   "metadata": {},
   "source": [
    "### 4.) F1-score or F-measure:\n",
    "    \n",
    "    It is a single metric that combines both Precision and Recall.<br>\n",
    "    The higher the F1 score, the better is the performance of our model. The range for F1-score is [0,1].\n",
    "    \n",
    "                      f1_score = (2*precision*recall) / (precision + recall)\n",
    "    \n",
    "    F1 score is the weighted average of precision and recall. The classifier will only get a high F-score if both precision and recall are high. This metric only favors classifiers that have similar precision and recall.\n",
    "\n",
    "Here’s a scikit-learn implementation of the F1-score:"
   ]
  },
  {
   "cell_type": "code",
   "execution_count": 20,
   "id": "57e38287",
   "metadata": {},
   "outputs": [
    {
     "name": "stdout",
     "output_type": "stream",
     "text": [
      "The f1 score :  0.78125\n"
     ]
    }
   ],
   "source": [
    "from sklearn.metrics import f1_score\n",
    "print('The f1 score : ',f1_score(test_y,test_y_pred))"
   ]
  },
  {
   "cell_type": "markdown",
   "id": "0c013409",
   "metadata": {},
   "source": [
    "### Jaccard Score :\n",
    "\n",
    "    Jaccard score is defined as the ratio of the size of the intersection to the size of the union of label classes between predicted labels and ground truth labels.\n",
    "    \n",
    "    It is considered a similarity coefficient to compare the predicted classes and true classes. \n",
    "    \n",
    "    The value of 1 denotes the best classification and 0 denotes the worst. \n",
    "    \n",
    "    Jaccard loss is considered a poor choice if the class distribution is imbalanced."
   ]
  },
  {
   "cell_type": "code",
   "execution_count": 21,
   "id": "d15ff195",
   "metadata": {},
   "outputs": [
    {
     "name": "stdout",
     "output_type": "stream",
     "text": [
      "The jaccard score :  0.6410256410256411\n"
     ]
    }
   ],
   "source": [
    "from sklearn.metrics import jaccard_score\n",
    "print('The jaccard score : ',jaccard_score(test_y,test_y_pred))"
   ]
  }
 ],
 "metadata": {
  "kernelspec": {
   "display_name": "Python 3",
   "language": "python",
   "name": "python3"
  },
  "language_info": {
   "codemirror_mode": {
    "name": "ipython",
    "version": 3
   },
   "file_extension": ".py",
   "mimetype": "text/x-python",
   "name": "python",
   "nbconvert_exporter": "python",
   "pygments_lexer": "ipython3",
   "version": "3.8.8"
  }
 },
 "nbformat": 4,
 "nbformat_minor": 5
}
