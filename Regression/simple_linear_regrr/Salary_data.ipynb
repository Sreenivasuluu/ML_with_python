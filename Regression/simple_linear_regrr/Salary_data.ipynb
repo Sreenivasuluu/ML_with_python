{
 "cells": [
  {
   "cell_type": "markdown",
   "id": "cb2a9d5e",
   "metadata": {},
   "source": [
    "# Simple linear Regression on Salary of experienced employees  "
   ]
  },
  {
   "cell_type": "markdown",
   "id": "97cb14ce",
   "metadata": {},
   "source": [
    "In statistics, linear regression is a linear approach for modeling the relationship between a scalar dependent variable y and one or more explanatory variables (or independent variables) denoted X\n",
    "\n",
    "The case of one explanatory variable is called simple linear regression. For more than one explanatory variable, the process is called multiple linear regression."
   ]
  },
  {
   "cell_type": "markdown",
   "id": "60ea7799",
   "metadata": {},
   "source": [
    "## Import packages and dataset"
   ]
  },
  {
   "cell_type": "code",
   "execution_count": 1,
   "id": "34da5219",
   "metadata": {},
   "outputs": [],
   "source": [
    "import pandas as pd \n",
    "import numpy as np\n",
    "import matplotlib.pyplot as plt\n",
    "import seaborn as sns\n",
    "%matplotlib inline\n",
    "\n",
    "import warnings\n",
    "warnings.filterwarnings(\"ignore\")"
   ]
  },
  {
   "cell_type": "code",
   "execution_count": 2,
   "id": "cbec72cd",
   "metadata": {},
   "outputs": [
    {
     "data": {
      "text/html": [
       "<div>\n",
       "<style scoped>\n",
       "    .dataframe tbody tr th:only-of-type {\n",
       "        vertical-align: middle;\n",
       "    }\n",
       "\n",
       "    .dataframe tbody tr th {\n",
       "        vertical-align: top;\n",
       "    }\n",
       "\n",
       "    .dataframe thead th {\n",
       "        text-align: right;\n",
       "    }\n",
       "</style>\n",
       "<table border=\"1\" class=\"dataframe\">\n",
       "  <thead>\n",
       "    <tr style=\"text-align: right;\">\n",
       "      <th></th>\n",
       "      <th>YearsExperience</th>\n",
       "      <th>Salary</th>\n",
       "    </tr>\n",
       "  </thead>\n",
       "  <tbody>\n",
       "    <tr>\n",
       "      <th>0</th>\n",
       "      <td>1.1</td>\n",
       "      <td>39343.0</td>\n",
       "    </tr>\n",
       "    <tr>\n",
       "      <th>1</th>\n",
       "      <td>1.3</td>\n",
       "      <td>46205.0</td>\n",
       "    </tr>\n",
       "    <tr>\n",
       "      <th>2</th>\n",
       "      <td>1.5</td>\n",
       "      <td>37731.0</td>\n",
       "    </tr>\n",
       "    <tr>\n",
       "      <th>3</th>\n",
       "      <td>2.0</td>\n",
       "      <td>43525.0</td>\n",
       "    </tr>\n",
       "    <tr>\n",
       "      <th>4</th>\n",
       "      <td>2.2</td>\n",
       "      <td>39891.0</td>\n",
       "    </tr>\n",
       "  </tbody>\n",
       "</table>\n",
       "</div>"
      ],
      "text/plain": [
       "   YearsExperience   Salary\n",
       "0              1.1  39343.0\n",
       "1              1.3  46205.0\n",
       "2              1.5  37731.0\n",
       "3              2.0  43525.0\n",
       "4              2.2  39891.0"
      ]
     },
     "execution_count": 2,
     "metadata": {},
     "output_type": "execute_result"
    }
   ],
   "source": [
    "df=pd.read_csv('./Downloads/Salary_Data.csv')\n",
    "\n",
    "df.head()"
   ]
  },
  {
   "cell_type": "markdown",
   "id": "74294a33",
   "metadata": {},
   "source": [
    "## Check basic info of the data set"
   ]
  },
  {
   "cell_type": "code",
   "execution_count": 3,
   "id": "788f89d8",
   "metadata": {},
   "outputs": [
    {
     "name": "stdout",
     "output_type": "stream",
     "text": [
      "<class 'pandas.core.frame.DataFrame'>\n",
      "RangeIndex: 30 entries, 0 to 29\n",
      "Data columns (total 2 columns):\n",
      " #   Column           Non-Null Count  Dtype  \n",
      "---  ------           --------------  -----  \n",
      " 0   YearsExperience  30 non-null     float64\n",
      " 1   Salary           30 non-null     float64\n",
      "dtypes: float64(2)\n",
      "memory usage: 608.0 bytes\n"
     ]
    }
   ],
   "source": [
    "# 'info()' method to check the data types and number\n",
    "df.info()   "
   ]
  },
  {
   "cell_type": "code",
   "execution_count": 4,
   "id": "f8e5a02a",
   "metadata": {},
   "outputs": [
    {
     "data": {
      "text/html": [
       "<div>\n",
       "<style scoped>\n",
       "    .dataframe tbody tr th:only-of-type {\n",
       "        vertical-align: middle;\n",
       "    }\n",
       "\n",
       "    .dataframe tbody tr th {\n",
       "        vertical-align: top;\n",
       "    }\n",
       "\n",
       "    .dataframe thead th {\n",
       "        text-align: right;\n",
       "    }\n",
       "</style>\n",
       "<table border=\"1\" class=\"dataframe\">\n",
       "  <thead>\n",
       "    <tr style=\"text-align: right;\">\n",
       "      <th></th>\n",
       "      <th>YearsExperience</th>\n",
       "      <th>Salary</th>\n",
       "    </tr>\n",
       "  </thead>\n",
       "  <tbody>\n",
       "    <tr>\n",
       "      <th>count</th>\n",
       "      <td>30.000000</td>\n",
       "      <td>30.000000</td>\n",
       "    </tr>\n",
       "    <tr>\n",
       "      <th>mean</th>\n",
       "      <td>5.313333</td>\n",
       "      <td>76003.000000</td>\n",
       "    </tr>\n",
       "    <tr>\n",
       "      <th>std</th>\n",
       "      <td>2.837888</td>\n",
       "      <td>27414.429785</td>\n",
       "    </tr>\n",
       "    <tr>\n",
       "      <th>min</th>\n",
       "      <td>1.100000</td>\n",
       "      <td>37731.000000</td>\n",
       "    </tr>\n",
       "    <tr>\n",
       "      <th>25%</th>\n",
       "      <td>3.200000</td>\n",
       "      <td>56720.750000</td>\n",
       "    </tr>\n",
       "    <tr>\n",
       "      <th>50%</th>\n",
       "      <td>4.700000</td>\n",
       "      <td>65237.000000</td>\n",
       "    </tr>\n",
       "    <tr>\n",
       "      <th>75%</th>\n",
       "      <td>7.700000</td>\n",
       "      <td>100544.750000</td>\n",
       "    </tr>\n",
       "    <tr>\n",
       "      <th>max</th>\n",
       "      <td>10.500000</td>\n",
       "      <td>122391.000000</td>\n",
       "    </tr>\n",
       "  </tbody>\n",
       "</table>\n",
       "</div>"
      ],
      "text/plain": [
       "       YearsExperience         Salary\n",
       "count        30.000000      30.000000\n",
       "mean          5.313333   76003.000000\n",
       "std           2.837888   27414.429785\n",
       "min           1.100000   37731.000000\n",
       "25%           3.200000   56720.750000\n",
       "50%           4.700000   65237.000000\n",
       "75%           7.700000  100544.750000\n",
       "max          10.500000  122391.000000"
      ]
     },
     "execution_count": 4,
     "metadata": {},
     "output_type": "execute_result"
    }
   ],
   "source": [
    "# 'describe()' method to get the statistical summary of the various features of the data set\n",
    "df.describe()"
   ]
  },
  {
   "cell_type": "code",
   "execution_count": 5,
   "id": "eebc0bd3",
   "metadata": {},
   "outputs": [
    {
     "data": {
      "text/plain": [
       "Index(['YearsExperience', 'Salary'], dtype='object')"
      ]
     },
     "execution_count": 5,
     "metadata": {},
     "output_type": "execute_result"
    }
   ],
   "source": [
    "df.columns"
   ]
  },
  {
   "cell_type": "markdown",
   "id": "9f1eae41",
   "metadata": {},
   "source": [
    "> - Given data has labels,so it's supervised \n",
    ">- The dependent variable has continuous numeric values ,then we need to  predict continuous values,so regression "
   ]
  },
  {
   "cell_type": "markdown",
   "id": "84cab368",
   "metadata": {},
   "source": [
    "## Check for null and repeated values in dataset"
   ]
  },
  {
   "cell_type": "code",
   "execution_count": 6,
   "id": "a520e991",
   "metadata": {},
   "outputs": [
    {
     "data": {
      "text/plain": [
       "YearsExperience    0\n",
       "Salary             0\n",
       "dtype: int64"
      ]
     },
     "execution_count": 6,
     "metadata": {},
     "output_type": "execute_result"
    }
   ],
   "source": [
    "df.isnull().sum()"
   ]
  },
  {
   "cell_type": "code",
   "execution_count": 7,
   "id": "5a95c568",
   "metadata": {},
   "outputs": [
    {
     "data": {
      "text/plain": [
       "0"
      ]
     },
     "execution_count": 7,
     "metadata": {},
     "output_type": "execute_result"
    }
   ],
   "source": [
    "df.duplicated().sum()"
   ]
  },
  {
   "cell_type": "markdown",
   "id": "c05d99ad",
   "metadata": {},
   "source": [
    "## Basic plotting and visualization on the data set\n"
   ]
  },
  {
   "cell_type": "code",
   "execution_count": 8,
   "id": "dbc38de2",
   "metadata": {},
   "outputs": [
    {
     "data": {
      "text/plain": [
       "<AxesSubplot:xlabel='YearsExperience', ylabel='Salary'>"
      ]
     },
     "execution_count": 8,
     "metadata": {},
     "output_type": "execute_result"
    },
    {
     "data": {
      "image/png": "[encoded data removed]",
      "text/plain": [
       "<Figure size 720x480 with 1 Axes>"
      ]
     },
     "metadata": {
      "needs_background": "light"
     },
     "output_type": "display_data"
    }
   ],
   "source": [
    "plt.figure(dpi=120)\n",
    "sns.scatterplot(df.YearsExperience,df.Salary)"
   ]
  },
  {
   "cell_type": "code",
   "execution_count": 9,
   "id": "49d15e9f",
   "metadata": {},
   "outputs": [
    {
     "data": {
      "text/plain": [
       "<AxesSubplot:ylabel='Salary'>"
      ]
     },
     "execution_count": 9,
     "metadata": {},
     "output_type": "execute_result"
    },
    {
     "data": {
      "image/png": "[encoded data removed]",
      "text/plain": [
       "<Figure size 720x480 with 1 Axes>"
      ]
     },
     "metadata": {
      "needs_background": "light"
     },
     "output_type": "display_data"
    }
   ],
   "source": [
    "plt.figure(dpi=120)\n",
    "sns.boxplot(y=df.Salary)"
   ]
  },
  {
   "cell_type": "markdown",
   "id": "97894035",
   "metadata": {},
   "source": [
    ">- relation b/w independent and dependent values is linear soo simple linear regression "
   ]
  },
  {
   "cell_type": "markdown",
   "id": "ccaaaa21",
   "metadata": {},
   "source": [
    "## Make yearsofexperience as X(independent variable) and salary as y(dependent variable) for simple linear regression"
   ]
  },
  {
   "cell_type": "code",
   "execution_count": 10,
   "id": "08d8721d",
   "metadata": {},
   "outputs": [],
   "source": [
    "X = df[['YearsExperience']].values\n",
    "y = df[['Salary']].values"
   ]
  },
  {
   "cell_type": "code",
   "execution_count": 11,
   "id": "deceb0ce",
   "metadata": {},
   "outputs": [
    {
     "name": "stdout",
     "output_type": "stream",
     "text": [
      "Independent shape : (30, 1)\n",
      "Dependent shape : (30, 1)\n"
     ]
    }
   ],
   "source": [
    "print('Independent shape :',X.shape)\n",
    "print('Dependent shape :',y.shape)"
   ]
  },
  {
   "cell_type": "markdown",
   "id": "46223d8a",
   "metadata": {},
   "source": [
    "## Test-train split"
   ]
  },
  {
   "cell_type": "markdown",
   "id": "c7d54f5e",
   "metadata": {},
   "source": [
    "### Import train_test_split function from scikit-learn"
   ]
  },
  {
   "cell_type": "code",
   "execution_count": 12,
   "id": "0dda9d61",
   "metadata": {},
   "outputs": [],
   "source": [
    "from sklearn.model_selection import train_test_split"
   ]
  },
  {
   "cell_type": "code",
   "execution_count": 13,
   "id": "a384b3ea",
   "metadata": {},
   "outputs": [],
   "source": [
    "X_train,X_test,y_train,y_test=train_test_split(X,y,test_size=0.3,random_state=42)"
   ]
  },
  {
   "cell_type": "code",
   "execution_count": 14,
   "id": "4f4059a5",
   "metadata": {},
   "outputs": [
    {
     "name": "stdout",
     "output_type": "stream",
     "text": [
      "Training feature shape :  (21, 1)\n",
      "Training variable shape :  (21, 1)\n",
      "Testing feature shape :  (9, 1)\n",
      "Testing variable shape :  (9, 1)\n"
     ]
    }
   ],
   "source": [
    "print('Training feature shape : ',X_train.shape)\n",
    "print('Training variable shape : ',y_train.shape)\n",
    "print('Testing feature shape : ',X_test.shape)\n",
    "print('Testing variable shape : ',y_test.shape)"
   ]
  },
  {
   "cell_type": "markdown",
   "id": "27843b0e",
   "metadata": {},
   "source": [
    "## Model fit and training"
   ]
  },
  {
   "cell_type": "markdown",
   "id": "78ebc874",
   "metadata": {},
   "source": [
    "### Import linear regression model estimator from scikit-learn and instantiate"
   ]
  },
  {
   "cell_type": "code",
   "execution_count": 15,
   "id": "64fcce97",
   "metadata": {},
   "outputs": [],
   "source": [
    "from sklearn.linear_model import LinearRegression\n",
    "from sklearn import metrics"
   ]
  },
  {
   "cell_type": "code",
   "execution_count": 16,
   "id": "b246c001",
   "metadata": {},
   "outputs": [],
   "source": [
    "reg = LinearRegression()  #Creating a Linear Regression object 'reg'"
   ]
  },
  {
   "cell_type": "markdown",
   "id": "f7b80f3f",
   "metadata": {},
   "source": [
    "### Fit the model on to the instantiated object itself"
   ]
  },
  {
   "cell_type": "code",
   "execution_count": 17,
   "id": "3ee1d4c0",
   "metadata": {},
   "outputs": [
    {
     "data": {
      "text/plain": [
       "LinearRegression()"
      ]
     },
     "execution_count": 17,
     "metadata": {},
     "output_type": "execute_result"
    }
   ],
   "source": [
    "reg.fit(X_train,y_train)    #Fit the linear model on to the 'reg' object itself i.e. no need to set this to another variable"
   ]
  },
  {
   "cell_type": "code",
   "execution_count": 18,
   "id": "da66a13e",
   "metadata": {},
   "outputs": [
    {
     "data": {
      "text/plain": [
       "{'copy_X': True,\n",
       " 'fit_intercept': True,\n",
       " 'n_jobs': None,\n",
       " 'normalize': False,\n",
       " 'positive': False}"
      ]
     },
     "execution_count": 18,
     "metadata": {},
     "output_type": "execute_result"
    }
   ],
   "source": [
    "reg.get_params()"
   ]
  },
  {
   "cell_type": "markdown",
   "id": "73ea3708",
   "metadata": {},
   "source": [
    "### Check the intercept and coefficient"
   ]
  },
  {
   "cell_type": "code",
   "execution_count": 19,
   "id": "33a1c4da",
   "metadata": {},
   "outputs": [
    {
     "name": "stdout",
     "output_type": "stream",
     "text": [
      "The intercept term of the linear model : [25918.43833489]\n"
     ]
    }
   ],
   "source": [
    "print('The intercept term of the linear model :',reg.intercept_)  #b or c"
   ]
  },
  {
   "cell_type": "code",
   "execution_count": 20,
   "id": "374d87bf",
   "metadata": {},
   "outputs": [
    {
     "name": "stdout",
     "output_type": "stream",
     "text": [
      "The coefficients of the linear model : [[9339.08172382]]\n"
     ]
    }
   ],
   "source": [
    "print('The coefficients of the linear model :',reg.coef_)   #w or m "
   ]
  },
  {
   "cell_type": "markdown",
   "id": "dbd2c9e3",
   "metadata": {},
   "source": [
    "## Prediction, error estimate and accuracy of model"
   ]
  },
  {
   "cell_type": "markdown",
   "id": "4591c5a8",
   "metadata": {},
   "source": [
    "### Prediction using the reg model"
   ]
  },
  {
   "cell_type": "code",
   "execution_count": 21,
   "id": "03c3c6b2",
   "metadata": {},
   "outputs": [
    {
     "name": "stdout",
     "output_type": "stream",
     "text": [
      "Type of the predicted object: <class 'numpy.ndarray'>\n",
      "Size of the predicted object: (9, 1)\n"
     ]
    }
   ],
   "source": [
    "predictions = reg.predict(X_test)\n",
    "print (\"Type of the predicted object:\", type(predictions))\n",
    "print (\"Size of the predicted object:\", predictions.shape)"
   ]
  },
  {
   "cell_type": "code",
   "execution_count": 22,
   "id": "18b0c4e1",
   "metadata": {},
   "outputs": [
    {
     "data": {
      "text/plain": [
       "array([[53935.68350634]])"
      ]
     },
     "execution_count": 22,
     "metadata": {},
     "output_type": "execute_result"
    }
   ],
   "source": [
    "reg.predict([[3]])            # predict for new individual experience entry"
   ]
  },
  {
   "cell_type": "markdown",
   "id": "297bb063",
   "metadata": {},
   "source": [
    "### Plot to see the predictions related to the training data"
   ]
  },
  {
   "cell_type": "code",
   "execution_count": 23,
   "id": "2502b882",
   "metadata": {},
   "outputs": [
    {
     "data": {
      "text/plain": [
       "<matplotlib.legend.Legend at 0x2965e65de80>"
      ]
     },
     "execution_count": 23,
     "metadata": {},
     "output_type": "execute_result"
    },
    {
     "data": {
      "image/png": "[encoded data removed]",
      "text/plain": [
       "<Figure size 720x480 with 1 Axes>"
      ]
     },
     "metadata": {
      "needs_background": "light"
     },
     "output_type": "display_data"
    }
   ],
   "source": [
    "plt.figure(dpi=120)\n",
    "plt.title('Training data',fontsize=25)\n",
    "plt.scatter(X_train,y_train,color='blue',label='training data poiont')\n",
    "plt.plot(X_train,reg.predict(X_train),color='red',label='regr line')\n",
    "plt.xticks(range(0,11))\n",
    "plt.xlabel('experience in yrs.')\n",
    "plt.ylabel('salary')\n",
    "plt.legend()"
   ]
  },
  {
   "cell_type": "markdown",
   "id": "ed8d5c72",
   "metadata": {},
   "source": [
    "### Plot to see the predictions related to the testing data"
   ]
  },
  {
   "cell_type": "code",
   "execution_count": 24,
   "id": "5126caaa",
   "metadata": {},
   "outputs": [
    {
     "data": {
      "text/plain": [
       "<matplotlib.legend.Legend at 0x296608f9310>"
      ]
     },
     "execution_count": 24,
     "metadata": {},
     "output_type": "execute_result"
    },
    {
     "data": {
      "image/png": "[encoded data removed]",
      "text/plain": [
       "<Figure size 720x480 with 1 Axes>"
      ]
     },
     "metadata": {
      "needs_background": "light"
     },
     "output_type": "display_data"
    }
   ],
   "source": [
    "plt.figure(dpi=120)\n",
    "plt.title('Testing data',fontsize=25)\n",
    "plt.scatter(X_test,y_test,color='green',label='testing data poiont')\n",
    "plt.plot(X_test,reg.predict(X_test),color='red',label='regr line')\n",
    "plt.xticks(range(0,11))\n",
    "plt.xlabel('experience in yrs.')\n",
    "plt.ylabel('salary')\n",
    "plt.legend()"
   ]
  },
  {
   "cell_type": "markdown",
   "id": "695369a9",
   "metadata": {},
   "source": [
    "### Plot to see the predictions related to the total data"
   ]
  },
  {
   "cell_type": "code",
   "execution_count": 25,
   "id": "3a8c75e9",
   "metadata": {},
   "outputs": [
    {
     "data": {
      "text/plain": [
       "<matplotlib.legend.Legend at 0x2965eddc8b0>"
      ]
     },
     "execution_count": 25,
     "metadata": {},
     "output_type": "execute_result"
    },
    {
     "data": {
      "image/png": "[encoded data removed]",
      "text/plain": [
       "<Figure size 720x480 with 1 Axes>"
      ]
     },
     "metadata": {
      "needs_background": "light"
     },
     "output_type": "display_data"
    }
   ],
   "source": [
    "plt.figure(dpi=120)\n",
    "plt.title('Total data',fontsize=25)\n",
    "plt.scatter(X_train,y_train,color='blue',label='training data poiont')\n",
    "plt.scatter(X_test,y_test,color='green',label='testing data poiont')\n",
    "plt.plot(X_train,reg.predict(X_train),color='red',label='regr line')\n",
    "plt.xticks(range(0,11))\n",
    "plt.xlabel('experience in yrs.')\n",
    "plt.ylabel('salary')\n",
    "plt.legend()"
   ]
  },
  {
   "cell_type": "markdown",
   "id": "7ff33d95",
   "metadata": {},
   "source": [
    "### Creating a dataframe to see the actual values and predicted values of testing data"
   ]
  },
  {
   "cell_type": "code",
   "execution_count": 26,
   "id": "069e0869",
   "metadata": {},
   "outputs": [
    {
     "data": {
      "text/html": [
       "<div>\n",
       "<style scoped>\n",
       "    .dataframe tbody tr th:only-of-type {\n",
       "        vertical-align: middle;\n",
       "    }\n",
       "\n",
       "    .dataframe tbody tr th {\n",
       "        vertical-align: top;\n",
       "    }\n",
       "\n",
       "    .dataframe thead th {\n",
       "        text-align: right;\n",
       "    }\n",
       "</style>\n",
       "<table border=\"1\" class=\"dataframe\">\n",
       "  <thead>\n",
       "    <tr style=\"text-align: right;\">\n",
       "      <th></th>\n",
       "      <th>Years_of_experience</th>\n",
       "      <th>Actual_Values</th>\n",
       "      <th>Predicted_Values</th>\n",
       "    </tr>\n",
       "  </thead>\n",
       "  <tbody>\n",
       "    <tr>\n",
       "      <th>0</th>\n",
       "      <td>9.6</td>\n",
       "      <td>112635.0</td>\n",
       "      <td>115573.622884</td>\n",
       "    </tr>\n",
       "    <tr>\n",
       "      <th>1</th>\n",
       "      <td>4.9</td>\n",
       "      <td>67938.0</td>\n",
       "      <td>71679.938782</td>\n",
       "    </tr>\n",
       "    <tr>\n",
       "      <th>2</th>\n",
       "      <td>8.2</td>\n",
       "      <td>113812.0</td>\n",
       "      <td>102498.908470</td>\n",
       "    </tr>\n",
       "    <tr>\n",
       "      <th>3</th>\n",
       "      <td>5.3</td>\n",
       "      <td>83088.0</td>\n",
       "      <td>75415.571471</td>\n",
       "    </tr>\n",
       "    <tr>\n",
       "      <th>4</th>\n",
       "      <td>3.2</td>\n",
       "      <td>64445.0</td>\n",
       "      <td>55803.499851</td>\n",
       "    </tr>\n",
       "    <tr>\n",
       "      <th>5</th>\n",
       "      <td>3.7</td>\n",
       "      <td>57189.0</td>\n",
       "      <td>60473.040713</td>\n",
       "    </tr>\n",
       "    <tr>\n",
       "      <th>6</th>\n",
       "      <td>10.3</td>\n",
       "      <td>122391.0</td>\n",
       "      <td>122110.980090</td>\n",
       "    </tr>\n",
       "    <tr>\n",
       "      <th>7</th>\n",
       "      <td>8.7</td>\n",
       "      <td>109431.0</td>\n",
       "      <td>107168.449332</td>\n",
       "    </tr>\n",
       "    <tr>\n",
       "      <th>8</th>\n",
       "      <td>4.0</td>\n",
       "      <td>56957.0</td>\n",
       "      <td>63274.765230</td>\n",
       "    </tr>\n",
       "  </tbody>\n",
       "</table>\n",
       "</div>"
      ],
      "text/plain": [
       "   Years_of_experience  Actual_Values  Predicted_Values\n",
       "0                  9.6       112635.0     115573.622884\n",
       "1                  4.9        67938.0      71679.938782\n",
       "2                  8.2       113812.0     102498.908470\n",
       "3                  5.3        83088.0      75415.571471\n",
       "4                  3.2        64445.0      55803.499851\n",
       "5                  3.7        57189.0      60473.040713\n",
       "6                 10.3       122391.0     122110.980090\n",
       "7                  8.7       109431.0     107168.449332\n",
       "8                  4.0        56957.0      63274.765230"
      ]
     },
     "execution_count": 26,
     "metadata": {},
     "output_type": "execute_result"
    }
   ],
   "source": [
    "c1 = X_test.ravel()\n",
    "c2 = y_test.ravel()\n",
    "c3 = reg.predict(X_test).ravel()\n",
    "df2 = pd.DataFrame({'Years_of_experience' : c1,'Actual_Values' : c2, 'Predicted_Values' : c3})\n",
    "df2"
   ]
  },
  {
   "cell_type": "markdown",
   "id": "da96bfdb",
   "metadata": {},
   "source": [
    "### Calculating the errors"
   ]
  },
  {
   "cell_type": "code",
   "execution_count": 27,
   "id": "5dd23b75",
   "metadata": {},
   "outputs": [
    {
     "name": "stdout",
     "output_type": "stream",
     "text": [
      "Mean absolute error (MAE): 5161.328710400183\n",
      "Mean square error (MSE): 37784662.46621314\n",
      "Root mean square error (RMSE): 6146.92300799458\n"
     ]
    }
   ],
   "source": [
    "print(\"Mean absolute error (MAE):\", metrics.mean_absolute_error(y_test,predictions))\n",
    "print(\"Mean square error (MSE):\", metrics.mean_squared_error(y_test,predictions))\n",
    "print(\"Root mean square error (RMSE):\", np.sqrt(metrics.mean_squared_error(y_test,predictions)))"
   ]
  },
  {
   "cell_type": "markdown",
   "id": "0202c87d",
   "metadata": {},
   "source": [
    "### R-square value"
   ]
  },
  {
   "cell_type": "code",
   "execution_count": 28,
   "id": "71bff2c6",
   "metadata": {},
   "outputs": [
    {
     "name": "stdout",
     "output_type": "stream",
     "text": [
      "R-squared value of predictions: 0.941\n"
     ]
    }
   ],
   "source": [
    "print(\"R-squared value of predictions:\",round(metrics.r2_score(y_test,predictions),3))\n"
   ]
  },
  {
   "cell_type": "code",
   "execution_count": 29,
   "id": "4d28393e",
   "metadata": {},
   "outputs": [
    {
     "name": "stdout",
     "output_type": "stream",
     "text": [
      "The model accuracy score for testing data : 0.941\n",
      "The model accuracy score for training data : 0.957\n"
     ]
    }
   ],
   "source": [
    "print('The model accuracy score for testing data :',round(reg.score(X_test,y_test),3))\n",
    "\n",
    "# reg.score:calculate predictions for X_test and check with y_test\n",
    "\n",
    "print('The model accuracy score for training data :',round(reg.score(X_train,y_train),3))\n",
    "\n",
    "# reg.score:calculate predictions for X_train and check with y_train\n"
   ]
  },
  {
   "cell_type": "code",
   "execution_count": null,
   "id": "599e5b82",
   "metadata": {},
   "outputs": [],
   "source": []
  }
 ],
 "metadata": {
  "kernelspec": {
   "display_name": "Python 3",
   "language": "python",
   "name": "python3"
  },
  "language_info": {
   "codemirror_mode": {
    "name": "ipython",
    "version": 3
   },
   "file_extension": ".py",
   "mimetype": "text/x-python",
   "name": "python",
   "nbconvert_exporter": "python",
   "pygments_lexer": "ipython3",
   "version": "3.8.8"
  }
 },
 "nbformat": 4,
 "nbformat_minor": 5
}
