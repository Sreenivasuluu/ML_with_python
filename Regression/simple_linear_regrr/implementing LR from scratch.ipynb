{
 "cells": [
  {
   "cell_type": "markdown",
   "id": "b6e11e1a",
   "metadata": {},
   "source": [
    "  #                  Simple Linear Regression Using Python and Numpy"
   ]
  },
  {
   "cell_type": "markdown",
   "id": "7ae58d7c",
   "metadata": {},
   "source": [
    "### All we need, to predict in Simple linear regression is the equation \n",
    " >> ## Y = (Intercept) + (slope) * X \n",
    " \n",
    "### For the best equation, we need best  Intercept and slope values. To get them follow the steos described below\n",
    "\n",
    "\n"
   ]
  },
  {
   "cell_type": "code",
   "execution_count": null,
   "id": "79628efa",
   "metadata": {},
   "outputs": [],
   "source": []
  },
  {
   "cell_type": "markdown",
   "id": "7a27a2a6",
   "metadata": {},
   "source": [
    "### Steps:\n",
    "1. Initialise the parameters\n",
    "2. Repeat until convergence or given number of iterations<br>\n",
    "    i.Calculate Predicted values for dependent variable as per current parameters (y_hat)<br>\n",
    "    ii.Calculate loss (cost function)<br>\n",
    "    iii.Calculate Gradients (derivatives of cost function wrt parameters)<br>\n",
    "    iV.Update the parameters<br>"
   ]
  },
  {
   "cell_type": "code",
   "execution_count": 1,
   "id": "463e3dda",
   "metadata": {},
   "outputs": [],
   "source": [
    "import numpy  as np\n",
    "import pandas as pd\n",
    "import matplotlib.pyplot as plt\n",
    "import seaborn as sns\n",
    "%matplotlib inline"
   ]
  },
  {
   "cell_type": "markdown",
   "id": "b70890c6",
   "metadata": {},
   "source": [
    "## 1.Initialising the parameters"
   ]
  },
  {
   "cell_type": "code",
   "execution_count": 2,
   "id": "3e88c1b2",
   "metadata": {},
   "outputs": [],
   "source": [
    "def initialize(dim):\n",
    "    w = np.zeros((dim,1))\n",
    "    assert(w.shape == (dim,1))\n",
    "    return w"
   ]
  },
  {
   "cell_type": "code",
   "execution_count": 3,
   "id": "593beebf",
   "metadata": {},
   "outputs": [
    {
     "data": {
      "text/plain": [
       "array([[0.],\n",
       "       [0.]])"
      ]
     },
     "execution_count": 3,
     "metadata": {},
     "output_type": "execute_result"
    }
   ],
   "source": [
    "initialize(2)"
   ]
  },
  {
   "cell_type": "markdown",
   "id": "983ab97c",
   "metadata": {},
   "source": [
    "## 2.Calculating Y_hat and cost Function"
   ]
  },
  {
   "cell_type": "code",
   "execution_count": 4,
   "id": "a9acda5c",
   "metadata": {},
   "outputs": [],
   "source": [
    "def calc_yhat(w,X):\n",
    "    y_hat = np.dot(w.T,X)\n",
    "    return y_hat"
   ]
  },
  {
   "cell_type": "markdown",
   "id": "77107eea",
   "metadata": {},
   "source": [
    "In simple, **\"Cost function is a measure of how wrong the model is in estimating the relationship between X(input) and Y(output) Parameter.\"** A cost function is sometimes also referred to as Loss function, and it can be estimated by iteratively running the model to compare estimated predictions against the known values of Y. We need to minimise thecost function for better values."
   ]
  },
  {
   "cell_type": "code",
   "execution_count": 5,
   "id": "d787af3e",
   "metadata": {},
   "outputs": [],
   "source": [
    "def calc_cost(w,y_hat,Y):\n",
    "    m = Y.shape[1]\n",
    "    cost = 1/m * np.sum(np.power(y_hat-Y,2))\n",
    "    return cost"
   ]
  },
  {
   "cell_type": "markdown",
   "id": "4eb343dc",
   "metadata": {},
   "source": [
    "## 3.Calculating gradients and Optimization"
   ]
  },
  {
   "cell_type": "code",
   "execution_count": 6,
   "id": "8a8cfa58",
   "metadata": {},
   "outputs": [],
   "source": [
    "def calc_gradient(w,X,Y):\n",
    "    m = X.shape[1]\n",
    "    y_hat = calc_yhat(w,X)\n",
    "    grad = 2/m * np.dot(X, (y_hat-Y).T)\n",
    "    return grad"
   ]
  },
  {
   "cell_type": "markdown",
   "id": "b23863bf",
   "metadata": {},
   "source": [
    "**Gradient descent** is an iterative process where the model gradually converges towards a minimum value, and if the model iterates further than this point, it produces little or zero changes in the loss. This point is known as convergence, and at this point, the error is least, and the cost function is optimized."
   ]
  },
  {
   "cell_type": "code",
   "execution_count": 7,
   "id": "25d01e04",
   "metadata": {},
   "outputs": [],
   "source": [
    "def gradient_descent(X,Y,learning_rate, epochs, details):\n",
    "    costs = []\n",
    "    w = initialize(X.shape[0])\n",
    "    for i in range(epochs):\n",
    "        y_hat = calc_yhat(w,X)\n",
    "        cost = calc_cost(w,y_hat,Y)\n",
    "        grad = calc_gradient(w,X,Y)\n",
    "        w = w - learning_rate * grad\n",
    "        if i % details == 0:\n",
    "            costs.append(cost)\n",
    "            print('Cost after {} iterations is {}'.format(i,cost))\n",
    "    return w, costs"
   ]
  },
  {
   "cell_type": "markdown",
   "id": "3bde075b",
   "metadata": {},
   "source": [
    "## 4.Combining all functions to create a model"
   ]
  },
  {
   "cell_type": "code",
   "execution_count": 8,
   "id": "c2bbf24c",
   "metadata": {},
   "outputs": [],
   "source": [
    "def run_model(X,Y,learning_rate, epochs, details):\n",
    "    '''Input shape:\n",
    "       X : (1,M)\n",
    "       Y : (1,M)\n",
    "       details : epoch interval after which cost is to be printed\n",
    "       '''\n",
    "    ones = np.ones((1, X.shape[1]))\n",
    "    X = np.append(ones,X,axis = 0)     # To match with both b0 and b1 in w (Y= b0 + b1*x)\n",
    "    w,costs = gradient_descent(X,Y,learning_rate, epochs, details)\n",
    "    d = {\n",
    "        'Intercept' : w[0,0],\n",
    "        'Slope' : w[1,0],\n",
    "        'Costs' : costs\n",
    "    }\n",
    "    return d"
   ]
  },
  {
   "cell_type": "code",
   "execution_count": null,
   "id": "af9b4904",
   "metadata": {},
   "outputs": [],
   "source": []
  },
  {
   "cell_type": "markdown",
   "id": "1e8c5559",
   "metadata": {},
   "source": [
    "### Take a random sample data to fit the model"
   ]
  },
  {
   "cell_type": "code",
   "execution_count": 55,
   "id": "5c232f63",
   "metadata": {},
   "outputs": [
    {
     "data": {
      "text/plain": [
       "<matplotlib.collections.PathCollection at 0x1f89af8f0d0>"
      ]
     },
     "execution_count": 55,
     "metadata": {},
     "output_type": "execute_result"
    },
    {
     "data": {
      "image/png": "[encoded data removed]",
      "text/plain": [
       "<Figure size 432x288 with 1 Axes>"
      ]
     },
     "metadata": {
      "needs_background": "light"
     },
     "output_type": "display_data"
    }
   ],
   "source": [
    "X = np.random.rand(1,200)\n",
    "Y = 5*X + np.random.randn(1,200)*0.1\n",
    "plt.scatter(X,Y)"
   ]
  },
  {
   "cell_type": "code",
   "execution_count": 142,
   "id": "1076f16a",
   "metadata": {},
   "outputs": [],
   "source": [
    "#Fitting the model "
   ]
  },
  {
   "cell_type": "code",
   "execution_count": 56,
   "id": "1944bc1e",
   "metadata": {},
   "outputs": [
    {
     "name": "stdout",
     "output_type": "stream",
     "text": [
      "Cost after 0 iterations is 8.174926370575834\n",
      "Cost after 100 iterations is 0.9688773694199777\n",
      "Cost after 200 iterations is 0.7351113828289292\n",
      "Cost after 300 iterations is 0.5826637224722252\n",
      "Cost after 400 iterations is 0.4623793426162286\n",
      "Cost after 500 iterations is 0.3673229327410848\n",
      "Cost after 600 iterations is 0.2922023926452975\n",
      "Cost after 700 iterations is 0.23283663236183194\n",
      "Cost after 800 iterations is 0.18592145454407324\n",
      "Cost after 900 iterations is 0.14884564014915783\n"
     ]
    }
   ],
   "source": [
    "result = run_model(X,Y,0.01,1000,100)"
   ]
  },
  {
   "cell_type": "code",
   "execution_count": 57,
   "id": "1df87f45",
   "metadata": {},
   "outputs": [
    {
     "name": "stdout",
     "output_type": "stream",
     "text": [
      "The slope : 3.819245313033013\n"
     ]
    }
   ],
   "source": [
    "print('The slope :',result['Slope'])"
   ]
  },
  {
   "cell_type": "code",
   "execution_count": 58,
   "id": "04e6dd68",
   "metadata": {},
   "outputs": [
    {
     "name": "stdout",
     "output_type": "stream",
     "text": [
      "The Intercept : 0.6321282846351696\n"
     ]
    }
   ],
   "source": [
    "print('The Intercept :',result['Intercept'])"
   ]
  },
  {
   "cell_type": "code",
   "execution_count": 59,
   "id": "ad101033",
   "metadata": {},
   "outputs": [
    {
     "name": "stdout",
     "output_type": "stream",
     "text": [
      "The values of cost function :\n",
      " [8.174926370575834, 0.9688773694199777, 0.7351113828289292, 0.5826637224722252, 0.4623793426162286, 0.3673229327410848, 0.2922023926452975, 0.23283663236183194, 0.18592145454407324, 0.14884564014915783]\n"
     ]
    }
   ],
   "source": [
    "print('The values of cost function :\\n',result['Costs'])             # As you observe, the values are decreasing"
   ]
  },
  {
   "cell_type": "code",
   "execution_count": 60,
   "id": "cd245fe0",
   "metadata": {},
   "outputs": [
    {
     "data": {
      "text/plain": [
       "{'Intercept': 0.6321282846351696,\n",
       " 'Slope': 3.819245313033013,\n",
       " 'Costs': [8.174926370575834,\n",
       "  0.9688773694199777,\n",
       "  0.7351113828289292,\n",
       "  0.5826637224722252,\n",
       "  0.4623793426162286,\n",
       "  0.3673229327410848,\n",
       "  0.2922023926452975,\n",
       "  0.23283663236183194,\n",
       "  0.18592145454407324,\n",
       "  0.14884564014915783]}"
      ]
     },
     "execution_count": 60,
     "metadata": {},
     "output_type": "execute_result"
    }
   ],
   "source": [
    "result"
   ]
  },
  {
   "cell_type": "code",
   "execution_count": 61,
   "id": "a82a2f3a",
   "metadata": {},
   "outputs": [
    {
     "data": {
      "image/png": "[encoded data removed]",
      "text/plain": [
       "<Figure size 432x288 with 1 Axes>"
      ]
     },
     "metadata": {
      "needs_background": "light"
     },
     "output_type": "display_data"
    }
   ],
   "source": [
    "plt.plot(result['Costs'])\n",
    "plt.xlabel('Decreasing cost funtion')\n",
    "plt.show()"
   ]
  },
  {
   "cell_type": "code",
   "execution_count": null,
   "id": "70a7a944",
   "metadata": {},
   "outputs": [],
   "source": []
  },
  {
   "cell_type": "markdown",
   "id": "d88ee33d",
   "metadata": {},
   "source": [
    "## Take salary_data to fit the model "
   ]
  },
  {
   "cell_type": "code",
   "execution_count": 69,
   "id": "36bdc192",
   "metadata": {},
   "outputs": [],
   "source": [
    "df = pd.read_csv('.\\Downloads\\Salary_data.csv')"
   ]
  },
  {
   "cell_type": "code",
   "execution_count": 110,
   "id": "933b9926",
   "metadata": {},
   "outputs": [
    {
     "data": {
      "text/html": [
       "<div>\n",
       "<style scoped>\n",
       "    .dataframe tbody tr th:only-of-type {\n",
       "        vertical-align: middle;\n",
       "    }\n",
       "\n",
       "    .dataframe tbody tr th {\n",
       "        vertical-align: top;\n",
       "    }\n",
       "\n",
       "    .dataframe thead th {\n",
       "        text-align: right;\n",
       "    }\n",
       "</style>\n",
       "<table border=\"1\" class=\"dataframe\">\n",
       "  <thead>\n",
       "    <tr style=\"text-align: right;\">\n",
       "      <th></th>\n",
       "      <th>YearsExperience</th>\n",
       "      <th>Salary</th>\n",
       "    </tr>\n",
       "  </thead>\n",
       "  <tbody>\n",
       "    <tr>\n",
       "      <th>0</th>\n",
       "      <td>1.1</td>\n",
       "      <td>39343.0</td>\n",
       "    </tr>\n",
       "    <tr>\n",
       "      <th>1</th>\n",
       "      <td>1.3</td>\n",
       "      <td>46205.0</td>\n",
       "    </tr>\n",
       "    <tr>\n",
       "      <th>2</th>\n",
       "      <td>1.5</td>\n",
       "      <td>37731.0</td>\n",
       "    </tr>\n",
       "    <tr>\n",
       "      <th>3</th>\n",
       "      <td>2.0</td>\n",
       "      <td>43525.0</td>\n",
       "    </tr>\n",
       "    <tr>\n",
       "      <th>4</th>\n",
       "      <td>2.2</td>\n",
       "      <td>39891.0</td>\n",
       "    </tr>\n",
       "  </tbody>\n",
       "</table>\n",
       "</div>"
      ],
      "text/plain": [
       "   YearsExperience   Salary\n",
       "0              1.1  39343.0\n",
       "1              1.3  46205.0\n",
       "2              1.5  37731.0\n",
       "3              2.0  43525.0\n",
       "4              2.2  39891.0"
      ]
     },
     "execution_count": 110,
     "metadata": {},
     "output_type": "execute_result"
    }
   ],
   "source": [
    "df.head()"
   ]
  },
  {
   "cell_type": "code",
   "execution_count": 111,
   "id": "1835a966",
   "metadata": {},
   "outputs": [
    {
     "data": {
      "text/plain": [
       "<matplotlib.collections.PathCollection at 0x1f89cfd1460>"
      ]
     },
     "execution_count": 111,
     "metadata": {},
     "output_type": "execute_result"
    },
    {
     "data": {
      "image/png": "[encoded data removed]",
      "text/plain": [
       "<Figure size 432x288 with 1 Axes>"
      ]
     },
     "metadata": {
      "needs_background": "light"
     },
     "output_type": "display_data"
    }
   ],
   "source": [
    "x = df[['YearsExperience']].values\n",
    "y = df[['Salary']].values\n",
    "plt.scatter(x,y)"
   ]
  },
  {
   "cell_type": "markdown",
   "id": "27d4c573",
   "metadata": {},
   "source": [
    "### Standardising the values "
   ]
  },
  {
   "cell_type": "code",
   "execution_count": 112,
   "id": "e450b7a3",
   "metadata": {},
   "outputs": [],
   "source": [
    "from sklearn.preprocessing import MinMaxScaler\n",
    "mmc = MinMaxScaler()\n",
    "x[:] = mmc.fit_transform(x[:])\n",
    "y[:] = mmc.fit_transform(y[:])"
   ]
  },
  {
   "cell_type": "code",
   "execution_count": 113,
   "id": "7f6d83df",
   "metadata": {},
   "outputs": [
    {
     "data": {
      "text/plain": [
       "<matplotlib.collections.PathCollection at 0x1f89d01bdc0>"
      ]
     },
     "execution_count": 113,
     "metadata": {},
     "output_type": "execute_result"
    },
    {
     "data": {
      "image/png": "[encoded data removed]",
      "text/plain": [
       "<Figure size 432x288 with 1 Axes>"
      ]
     },
     "metadata": {
      "needs_background": "light"
     },
     "output_type": "display_data"
    }
   ],
   "source": [
    "plt.scatter(x,y)"
   ]
  },
  {
   "cell_type": "code",
   "execution_count": 114,
   "id": "0cf19384",
   "metadata": {},
   "outputs": [],
   "source": [
    "y=y.reshape(1,30)\n",
    "x=x.reshape(1,30)"
   ]
  },
  {
   "cell_type": "markdown",
   "id": "5ebd8ae3",
   "metadata": {},
   "source": [
    "### Fitting the model"
   ]
  },
  {
   "cell_type": "code",
   "execution_count": 115,
   "id": "d158ee78",
   "metadata": {},
   "outputs": [
    {
     "name": "stdout",
     "output_type": "stream",
     "text": [
      "Cost after 0 iterations is 0.3057274673007749\n",
      "Cost after 2 iterations is 0.2832371083262221\n",
      "Cost after 4 iterations is 0.2628236181764382\n",
      "Cost after 6 iterations is 0.24429231247741237\n",
      "Cost after 8 iterations is 0.22746677345881852\n",
      "Cost after 10 iterations is 0.21218713595935448\n",
      "Cost after 12 iterations is 0.1983085342604518\n",
      "Cost after 14 iterations is 0.18569969465742736\n",
      "Cost after 16 iterations is 0.17424166009316713\n",
      "Cost after 18 iterations is 0.16382663446258688\n"
     ]
    }
   ],
   "source": [
    "result = run_model(x,y,0.01,20,2)"
   ]
  },
  {
   "cell_type": "code",
   "execution_count": 116,
   "id": "f0a64bbc",
   "metadata": {},
   "outputs": [
    {
     "data": {
      "text/plain": [
       "{'Intercept': 0.1423003498761649,\n",
       " 'Slope': 0.09899515144696855,\n",
       " 'Costs': [0.3057274673007749,\n",
       "  0.2832371083262221,\n",
       "  0.2628236181764382,\n",
       "  0.24429231247741237,\n",
       "  0.22746677345881852,\n",
       "  0.21218713595935448,\n",
       "  0.1983085342604518,\n",
       "  0.18569969465742736,\n",
       "  0.17424166009316713,\n",
       "  0.16382663446258688]}"
      ]
     },
     "execution_count": 116,
     "metadata": {},
     "output_type": "execute_result"
    }
   ],
   "source": [
    "result"
   ]
  },
  {
   "cell_type": "code",
   "execution_count": 118,
   "id": "888f9165",
   "metadata": {},
   "outputs": [
    {
     "data": {
      "text/plain": [
       "[<matplotlib.lines.Line2D at 0x1f89d07c4c0>]"
      ]
     },
     "execution_count": 118,
     "metadata": {},
     "output_type": "execute_result"
    },
    {
     "data": {
      "image/png": "[encoded data removed]",
      "text/plain": [
       "<Figure size 432x288 with 1 Axes>"
      ]
     },
     "metadata": {
      "needs_background": "light"
     },
     "output_type": "display_data"
    }
   ],
   "source": [
    "plt.plot(result['Costs'])"
   ]
  },
  {
   "cell_type": "markdown",
   "id": "3478e4f5",
   "metadata": {},
   "source": [
    "### Predicting the values"
   ]
  },
  {
   "cell_type": "code",
   "execution_count": 140,
   "id": "6bfdb811",
   "metadata": {},
   "outputs": [],
   "source": [
    "predict_y = np.array(result['Slope']*x*10 + result['Intercept'])"
   ]
  },
  {
   "cell_type": "markdown",
   "id": "ba12e2b8",
   "metadata": {},
   "source": [
    "### Visualising the actual and perdicted values"
   ]
  },
  {
   "cell_type": "code",
   "execution_count": 146,
   "id": "4b8f37eb",
   "metadata": {},
   "outputs": [
    {
     "data": {
      "text/plain": [
       "<matplotlib.legend.Legend at 0x1f89e8b17c0>"
      ]
     },
     "execution_count": 146,
     "metadata": {},
     "output_type": "execute_result"
    },
    {
     "data": {
      "image/png": "[encoded data removed]",
      "text/plain": [
       "<Figure size 1200x800 with 1 Axes>"
      ]
     },
     "metadata": {
      "needs_background": "light"
     },
     "output_type": "display_data"
    }
   ],
   "source": [
    "plt.figure(dpi=200)\n",
    "plt.scatter(x,y,label='Actual_values')\n",
    "plt.scatter(x,predict_y,label='Predicted values')\n",
    "plt.legend()"
   ]
  },
  {
   "cell_type": "markdown",
   "id": "dae9efc3",
   "metadata": {},
   "source": [
    "### Thanks for reading till end,\n",
    "### still having any doubts or suggestions regarding this notebook kindly comment them"
   ]
  }
 ],
 "metadata": {
  "kernelspec": {
   "display_name": "Python 3",
   "language": "python",
   "name": "python3"
  },
  "language_info": {
   "codemirror_mode": {
    "name": "ipython",
    "version": 3
   },
   "file_extension": ".py",
   "mimetype": "text/x-python",
   "name": "python",
   "nbconvert_exporter": "python",
   "pygments_lexer": "ipython3",
   "version": "3.8.8"
  }
 },
 "nbformat": 4,
 "nbformat_minor": 5
}
