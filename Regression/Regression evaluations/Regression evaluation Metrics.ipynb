{
 "cells": [
  {
   "cell_type": "code",
   "execution_count": 1,
   "id": "091255c3",
   "metadata": {},
   "outputs": [],
   "source": [
    "import numpy as np\n",
    "import pandas as pd\n",
    "import matplotlib.pyplot as plt\n",
    "import seaborn as sns"
   ]
  },
  {
   "cell_type": "code",
   "execution_count": 2,
   "id": "77dbbc43",
   "metadata": {},
   "outputs": [],
   "source": [
    "df = pd.read_csv(r'\\Users\\Sreenivasulu\\Downloads\\Salary_Data.csv')"
   ]
  },
  {
   "cell_type": "code",
   "execution_count": 3,
   "id": "4877f548",
   "metadata": {},
   "outputs": [],
   "source": [
    "X= df.iloc[:,:-1].values\n",
    "y= df.iloc[:,-1].values"
   ]
  },
  {
   "cell_type": "code",
   "execution_count": 4,
   "id": "a4d28ecd",
   "metadata": {},
   "outputs": [],
   "source": [
    "from sklearn.model_selection import train_test_split\n",
    "x1,x2,y1,y2=train_test_split(X,y,test_size=0.3)"
   ]
  },
  {
   "cell_type": "code",
   "execution_count": 5,
   "id": "d25dcbc4",
   "metadata": {},
   "outputs": [
    {
     "data": {
      "text/plain": [
       "LinearRegression()"
      ]
     },
     "execution_count": 5,
     "metadata": {},
     "output_type": "execute_result"
    }
   ],
   "source": [
    "from sklearn.linear_model import LinearRegression\n",
    "reg=LinearRegression()\n",
    "reg.fit(x1,y1)"
   ]
  },
  {
   "cell_type": "code",
   "execution_count": 6,
   "id": "77059eed",
   "metadata": {},
   "outputs": [],
   "source": [
    "y_pred = reg.predict(x2)"
   ]
  },
  {
   "cell_type": "markdown",
   "id": "88ed6199",
   "metadata": {},
   "source": [
    "# The various metrics used to evaluate the results of the prediction are :\n"
   ]
  },
  {
   "cell_type": "markdown",
   "id": "2666f8a9",
   "metadata": {},
   "source": [
    "## (a) Mean Absolute error\n"
   ]
  },
  {
   "cell_type": "markdown",
   "id": "09af24b5",
   "metadata": {},
   "source": [
    ">> ### MAE = 1/n * Σ|yi – ŷi|\n",
    "\n",
    "where:\n",
    "\n",
    "- Σ is a symbol that means “sum”\n",
    "- yi is the observed value for the ith observation\n",
    "- ŷi is the predicted value for the ith observation\n",
    "- n is the sample size"
   ]
  },
  {
   "cell_type": "code",
   "execution_count": 7,
   "id": "c2354ed7",
   "metadata": {},
   "outputs": [
    {
     "data": {
      "text/plain": [
       "5601.158892299683"
      ]
     },
     "execution_count": 7,
     "metadata": {},
     "output_type": "execute_result"
    }
   ],
   "source": [
    "from sklearn.metrics import mean_absolute_error\n",
    "mean_absolute_error(y2,y_pred)"
   ]
  },
  {
   "cell_type": "markdown",
   "id": "308b8735",
   "metadata": {},
   "source": [
    "# Mean Squared Error"
   ]
  },
  {
   "cell_type": "markdown",
   "id": "6fb39448",
   "metadata": {},
   "source": [
    ">> ### MSE = Σ(ŷi – yi)2 / n\n",
    "\n",
    "where:\n",
    "\n",
    "- Σ is a symbol that means “sum”\n",
    "- ŷi is the predicted value for the ith observation\n",
    "- yi is the observed value for the ith observation\n",
    "- n is the sample size"
   ]
  },
  {
   "cell_type": "code",
   "execution_count": 8,
   "id": "515faeb3",
   "metadata": {},
   "outputs": [
    {
     "data": {
      "text/plain": [
       "38590869.728372894"
      ]
     },
     "execution_count": 8,
     "metadata": {},
     "output_type": "execute_result"
    }
   ],
   "source": [
    "from sklearn.metrics import mean_squared_error\n",
    "mean_squared_error(y2,y_pred)"
   ]
  },
  {
   "cell_type": "markdown",
   "id": "6396ca69",
   "metadata": {},
   "source": [
    "# Root Mean Squared Error"
   ]
  },
  {
   "cell_type": "markdown",
   "id": "c1b2e499",
   "metadata": {},
   "source": [
    ">> RMSE = √MSE"
   ]
  },
  {
   "cell_type": "code",
   "execution_count": 9,
   "id": "f767e21d",
   "metadata": {},
   "outputs": [
    {
     "data": {
      "text/plain": [
       "6212.154998740203"
      ]
     },
     "execution_count": 9,
     "metadata": {},
     "output_type": "execute_result"
    }
   ],
   "source": [
    "from sklearn.metrics import mean_squared_error\n",
    "mean_squared_error(y2,y_pred,squared=False)"
   ]
  },
  {
   "cell_type": "markdown",
   "id": "8b5859d2",
   "metadata": {},
   "source": [
    "# Mean Squared Log Error"
   ]
  },
  {
   "cell_type": "markdown",
   "id": "7364ccab",
   "metadata": {},
   "source": [
    ">> L(y, y^​)= 1/N  ∑  ​ (log(yi​ +1)−log( y^​i +1))^2"
   ]
  },
  {
   "cell_type": "markdown",
   "id": "1cd5ce84",
   "metadata": {},
   "source": [
    "MSLE only care about the percentual difference\n",
    "\n",
    "The introduction of the logarithm makes MSLE only care about the relative difference between the true and the predicted value, or in other words, it only cares about the percentual difference between them.\n",
    "This means that MSLE will treat small differences between small true and predicted values approximately the same as big differences between large true and predicted values."
   ]
  },
  {
   "cell_type": "code",
   "execution_count": 10,
   "id": "1817aee2",
   "metadata": {},
   "outputs": [
    {
     "data": {
      "text/plain": [
       "0.009611259370948623"
      ]
     },
     "execution_count": 10,
     "metadata": {},
     "output_type": "execute_result"
    }
   ],
   "source": [
    "from sklearn.metrics import mean_squared_log_error\n",
    "mean_squared_log_error(y2,y_pred)"
   ]
  },
  {
   "cell_type": "markdown",
   "id": "a302344b",
   "metadata": {},
   "source": [
    "# R-squared score(coefficient of determination)"
   ]
  },
  {
   "cell_type": "markdown",
   "id": "30d8dac9",
   "metadata": {},
   "source": [
    ">> ## R2= 1- SSres / SStot<br>\n",
    "\n",
    "Where,<br>\n",
    "SSres is the sum of squares of the residual errors.<br>\n",
    "SStot is the total sum of the errors.<br>\n",
    "The metric helps us to compare our current model with a constant baseline and tells us how much our model is better. The constant baseline is chosen by taking the mean of the data and drawing a line at the mean."
   ]
  },
  {
   "cell_type": "code",
   "execution_count": 13,
   "id": "c61c6fba",
   "metadata": {},
   "outputs": [
    {
     "data": {
      "text/plain": [
       "0.9589299874132904"
      ]
     },
     "execution_count": 13,
     "metadata": {},
     "output_type": "execute_result"
    }
   ],
   "source": [
    "from sklearn.metrics import r2_score\n",
    "r2_score(y2,y_pred)"
   ]
  },
  {
   "cell_type": "code",
   "execution_count": 12,
   "id": "32067de9",
   "metadata": {},
   "outputs": [
    {
     "data": {
      "text/plain": [
       "0.9589299874132904"
      ]
     },
     "execution_count": 12,
     "metadata": {},
     "output_type": "execute_result"
    }
   ],
   "source": [
    "reg.score(x2,y2)      # We can directly calculate from model object like this"
   ]
  },
  {
   "cell_type": "markdown",
   "id": "08162b9c",
   "metadata": {},
   "source": [
    "# why mse is always preferred"
   ]
  },
  {
   "cell_type": "markdown",
   "id": "338fe064",
   "metadata": {},
   "source": [
    "### MSE or Mean Squared Error is one of the most preferred metrics for regression tasks. It is simply the average of the squared difference between the target value and the value predicted by the regression model. \n",
    "\n",
    "### As it squares the differences, it penalizes even a small error which leads to over-estimation of how bad the model is. It is preferred more than other metrics because it is differentiable and hence can be optimized better."
   ]
  }
 ],
 "metadata": {
  "kernelspec": {
   "display_name": "Python 3",
   "language": "python",
   "name": "python3"
  },
  "language_info": {
   "codemirror_mode": {
    "name": "ipython",
    "version": 3
   },
   "file_extension": ".py",
   "mimetype": "text/x-python",
   "name": "python",
   "nbconvert_exporter": "python",
   "pygments_lexer": "ipython3",
   "version": "3.8.8"
  }
 },
 "nbformat": 4,
 "nbformat_minor": 5
}
